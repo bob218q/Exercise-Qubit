{
  "cells": [
    {
      "cell_type": "markdown",
      "source": [
        "<h2> Python: Drawing </h2>\n",
        "\n",
        "Here we list certain tools from the python library \"matplotlib.pyplot\" that we will use throughout the tutorial."
      ],
      "metadata": {}
    },
    
    {
      "cell_type": "markdown",
      "source": [
        "<u><b>Importing</b></u> some useful tools for drawing figures in python:    "
      ],
      "metadata": {}
    },
    {
      "cell_type": "code",
      "source": [
        "from matplotlib.pyplot import plot, figure, arrow, Circle, gca, text, bar  "
      ],
      "outputs": [],
      "execution_count": 2,
      "metadata": {}
    },
    {
      "cell_type": "markdown",
      "source": [
        "<u><b>Drawing a figure</b></u> with a specified size and dpi value:"
      ],
      "metadata": {}
    },
    {
      "cell_type": "code",
      "source": [
        "figure(figsize=(6,6), dpi=60) \n",
        "#The higher dpi value makes the figure bigger.    "
      ],
      
      "outputs": [
        {
          "output_type": "execute_result",
          "execution_count": 3,
          "data": {
            "text/plain": "<Figure size 360x360 with 0 Axes>"
          },
          "metadata": {}
        },
        {
          "output_type": "display_data",
          "data": {
            "text/plain": "<Figure size 360x360 with 0 Axes>"
          },
          "metadata": {}
        }
      ],
      "execution_count": 3,
      "metadata": {}
    },
    {
      "cell_type": "markdown",
      "source": [
        "<u><b>Drawing a <font color=\"blue\">blue</font> point</b></u> at (x,y):"
      ],
      "metadata": {}
    },
    {
      "cell_type": "code",
      "source": [
        "plot(1,5,'bo')"
      ],
      "outputs": [
        {
          "output_type": "execute_result",
          "execution_count": 7,
          "data": {
            "text/plain": "[<matplotlib.lines.Line2D at 0x2a1e5318a60>]"
          },
          "metadata": {}
        },
        {
          "output_type": "display_data",
          "data": {
            "image/png": "[encoded data removed]",
            "text/plain": "<Figure size 432x288 with 1 Axes>"
          },
          "metadata": {
            "needs_background": "light"
          }
        }
      ],
      "execution_count": 7,
      "metadata": {}
    },
    {
      "cell_type": "markdown",
      "source": [
        "For <font color=\"red\">red</font> or <font color=\"green\">green</font> points, 'ro' or 'go' can be used, respectively."
      ],
      "metadata": {}
    },
    {
      "cell_type": "markdown",
      "source": [
        "<u><b>Drawing a line</b></u> from (x,y) to (x+dx,y+dy):\n",
        "\n",
        "    arrow(x,y,dx,dy)\n",
        "Additional parameters:\n",
        "<ul>\n",
        "    <li>color='red'</li>\n",
        "    <li>linewidth=1.5</li>\n",
        "    <li>linestyle='dotted' ('dashed', 'dash-dot', 'solid')</li>\n",
        "</ul>"
      ],
      "metadata": {}
    },
    {
      "cell_type": "markdown",
      "source": [
        "<u><b>Drawing a <font color=\"blue\">blue</font> arrow</b></u> from (x,y) to (x+dx,y+dy) with a specifed size head:"
      ],
      "metadata": {}
    },
    {
      "cell_type": "code",
      "source": [
        "arrow(0.5,0.5,0.1,0.1,head_width=0.04,head_length=0.08,color=\"blue\")"
      ],
      "outputs": [
        {
          "output_type": "execute_result",
          "execution_count": 14,
          "data": {
            "text/plain": "<matplotlib.patches.FancyArrow at 0x2a1e5465250>"
          },
          "metadata": {}
        },
        {
          "output_type": "display_data",
          "data": {
            "image/png": "[encoded data removed]",
            "text/plain": "<Figure size 432x288 with 1 Axes>"
          },
          "metadata": {
            "needs_background": "light"
          }
        }
      ],
      "execution_count": 14,
      "metadata": {}
    },
    {
      "cell_type": "markdown",
      "source": [
        "<u><b>Drawing the axes</b></u> on 2-dimensional plane:"
      ],
      "metadata": {}
    },
    {
      "cell_type": "code",
      "source": [
        "arrow(0,0,1.1,0,head_width=0.04,head_length=0.08)\n",
        "arrow(0,0,-1.1,0,head_width=0.04,head_length=0.08)\n",
        "arrow(0,0,0,-1.1,head_width=0.04,head_length=0.08)\n",
        "arrow(0,0,0,1.1,head_width=0.04,head_length=0.08)"
      ],
      "outputs": [
        {
          "output_type": "execute_result",
          "execution_count": 15,
          "data": {
            "text/plain": "<matplotlib.patches.FancyArrow at 0x2a1e54e7ee0>"
          },
          "metadata": {}
        },
        {
          "output_type": "display_data",
          "data": {
            "image/png": "[encoded data removed]",
            "text/plain": "<Figure size 432x288 with 1 Axes>"
          },
          "metadata": {
            "needs_background": "light"
          }
        }
      ],
      "execution_count": 15,
      "metadata": {}
    },
    {
      "cell_type": "markdown",
      "source": [
        "<b><u>Drawing a circle</u></b> centered as (x,y) with radius r on 2-dimensional plane:"
      ],
      "metadata": {}
    },
    {
      "cell_type": "code",
      "source": [
        "gca().add_patch( Circle((0.5,0.5),0.2,color='black',fill=False) ) "
      ],
      "outputs": [
        {
          "output_type": "execute_result",
          "execution_count": 21,
          "data": {
            "text/plain": "<matplotlib.patches.Circle at 0x2a1e5586d60>"
          },
          "metadata": {}
        },
        {
          "output_type": "display_data",
          "data": {
            "image/png": "[encoded data removed]",
            "text/plain": "<Figure size 432x288 with 1 Axes>"
          },
          "metadata": {
            "needs_background": "light"
          }
        }
      ],
      "execution_count": 21,
      "metadata": {}
    },
    {
      "cell_type": "markdown",
      "source": [
        "<b><u>Placing a text</u></b> at (x,y):\n",
        "\n",
        "    text(x,y,string)\n",
        "Additional parameters:\n",
        "<ul>\n",
        "    <li>rotation=90 (numeric degree values)</li>\n",
        "    <li>fontsize=12 </li>\n",
        "</ul>    "
      ],
      "metadata": {}
    },
    {
      "cell_type": "markdown",
      "source": [
        "<b><u>Drawing a bar</u></b>:"
      ],
      "metadata": {}
    },
    {
      "cell_type": "markdown",
      "source": [
        "bar(list_of_labels,list_of_data)   "
      ],
      "metadata": {}
    },
    {
      "cell_type": "markdown",
      "source": [
        "<hr>"
      ],
      "metadata": {}
    },
    {
      "cell_type": "markdown",
      "source": [
        "<h3> Our pre-defined functions </h3>\n",
        "\n",
        "We include our predefined functions by using the following line of code:\n",
        "\n",
        "    %run qlatvia.py\n",
        "<table align=\"left\"><tr><td>\n",
        "The file \"/include/drawing.py\" contains our predefined functions for drawing.\n",
        "    </td></tr></table>"
      ],
      "metadata": {}
    },
    {
      "cell_type": "code",
      "source": [
        " %run qlatvia.py"
      ],
      "outputs": [],
      "execution_count": 23,
      "metadata": {}
    },
    {
      "cell_type": "markdown",
      "source": [
        "<u><b>Drawing the axes</b></u> on 2-dimensional plane:"
      ],
      "metadata": {}
    },
    {
      "cell_type": "code",
      "source": [
        "\n",
        "    import matplotlib\n",
        "    def draw_axes():\n",
        "        # dummy points for zooming out\n",
        "        points = [ [1.3,0], [0,1.3], [-1.3,0], [0,-1.3] ] \n",
        "        # coordinates for the axes\n",
        "        arrows = [ [1.1,0], [0,1.1], [-1.1,0], [0,-1.1] ] \n",
        "        \n",
        "        # drawing dummy points\n",
        "        for p in points: matplotlib.pyplot.plot(p[0],p[1]+0.2) \n",
        "        # drawing the axes\n",
        "        for a in arrows: matplotlib.pyplot.arrow(0,0,a[0],a[1],head_width=0.04, head_length=0.08)\n",
        "    draw_axes()"
      ],
      "outputs": [
        {
          "output_type": "display_data",
          "data": {
            "image/png": "[encoded data removed]",
            "text/plain": "<Figure size 432x288 with 1 Axes>"
          },
          "metadata": {
            "needs_background": "light"
          }
        }
      ],
      "execution_count": 37,
      "metadata": {}
    },
    {
      "cell_type": "markdown",
      "source": [
        "<u><b>Drawing the unit circle</b></u> on 2-dimensional plane:"
      ],
      "metadata": {}
    },
    {
      "cell_type": "code",
      "source": [
        "\n",
        "    import matplotlib\n",
        "    def draw_unit_circle():\n",
        "        unit_circle= matplotlib.pyplot.Circle((0.2,0.2),0.2,color='black',fill=False)\n",
        "        matplotlib.pyplot.gca().add_patch(unit_circle) \n",
        "    draw_unit_circle()"
      ],
      "outputs": [
        {
          "output_type": "display_data",
          "data": {
            "image/png": "[encoded data removed]",
            "text/plain": "<Figure size 432x288 with 1 Axes>"
          },
          "metadata": {
            "needs_background": "light"
          }
        }
      ],
      "execution_count": 38,
      "metadata": {}
    },
    {
      "cell_type": "markdown",
      "source": [
        "<u><b>Drawing a quantum state</b></u> on 2-dimensional plane:"
      ],
      "metadata": {}
    },
    {
      "cell_type": "code",
      "source": [
        "\n",
        "    import matplotlib\n",
        "    def draw_quantum_state(x,y):\n",
        "        # shorten the line length to 0.92\n",
        "        # line_length + head_length should be 1\n",
        "        x1 = 0.92 * x\n",
        "        y1 = 0.92 * y\n",
        "        matplotlib.pyplot.arrow(0,0,x1,y1,head_width=0.04,head_length=0.08,color=\"blue\")\n",
        "        x2 = 1.15 * x\n",
        "        y2 = 1.15 * y\n",
        "        matplotlib.pyplot.text(x2,y2,arrow)\n",
        "    draw_quantum_state(1,1)"
      ],
      "outputs": [
        {
          "output_type": "display_data",
          "data": {
            "image/png": "[encoded data removed]",
            "text/plain": "<Figure size 432x288 with 1 Axes>"
          },
          "metadata": {
            "needs_background": "light"
          }
        }
      ],
      "execution_count": 44,
      "metadata": {}
    },
    {
      "cell_type": "markdown",
      "source": [
        "<u><b>Drawing a qubit</b></u> on 2-dimensional plane:"
      ],
      "metadata": {}
    },
    {
      "cell_type": "code",
      "source": [
        "\n",
        "\n",
        "    import matplotlib\n",
        "    def draw_qubit():\n",
        "        # draw a figure\n",
        "        matplotlib.pyplot.figure(figsize=(6,6), dpi=60)\n",
        "        # draw the origin\n",
        "        matplotlib.pyplot.plot(0,0,'ro') # a point in red color\n",
        "        # drawing the axes by using one of our predefined functions\n",
        "        draw_axes()\n",
        "        # drawing the unit circle by using one of our predefined functions\n",
        "        draw_unit_circle()\n",
        "        # drawing |0>\n",
        "        matplotlib.pyplot.plot(1,0,\"o\")\n",
        "        matplotlib.pyplot.text(1.05,0.05,\"|0>\")\n",
        "        # drawing |1>\n",
        "        matplotlib.pyplot.plot(0,1,\"o\")\n",
        "        matplotlib.pyplot.text(0.05,1.05,\"|1>\")\n",
        "        # drawing -|0>\n",
        "        matplotlib.pyplot.plot(-1,0,\"o\")\n",
        "        matplotlib.pyplot.text(-1.2,-0.1,\"-|0>\")\n",
        "        # drawing -|1>\n",
        "        matplotlib.pyplot.plot(0,-1,\"o\")\n",
        "        matplotlib.pyplot.text(-0.2,-1.1,\"-|1>\")\n",
        "    draw_qubit()"
      ],
      "outputs": [
        {
          "output_type": "display_data",
          "data": {
            "image/png": "[encoded data removed]",
            "text/plain": "<Figure size 360x360 with 1 Axes>"
          },
          "metadata": {
            "needs_background": "light"
          }
        }
      ],
      "execution_count": 30,
      "metadata": {}
    },
    {
      "cell_type": "code",
      "source": [],
      "outputs": [],
      "execution_count": null,
      "metadata": {}
    }
  ],
  "metadata": {
    "kernelspec": {
      "display_name": "Python 3",
      "language": "python",
      "name": "python3"
    },
    "language_info": {
      "codemirror_mode": {
        "name": "ipython",
        "version": 3
      },
      "file_extension": ".py",
      "mimetype": "text/x-python",
      "name": "python",
      "nbconvert_exporter": "python",
      "pygments_lexer": "ipython3",
      "version": "3.8.3"
    },
    "nteract": {
      "version": "0.26.0"
    }
  },
  "nbformat": 4,
  "nbformat_minor": 4
}
